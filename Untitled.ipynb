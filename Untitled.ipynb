{
 "cells": [
  {
   "cell_type": "code",
   "execution_count": 30,
   "metadata": {},
   "outputs": [
    {
     "name": "stdout",
     "output_type": "stream",
     "text": [
      "1266\n",
      "1266\n",
      "135.039307\n"
     ]
    }
   ],
   "source": [
    "\n",
    "# coding: utf-8\n",
    "\n",
    "# In[42]:\n",
    "\n",
    "\n",
    "import struct\n",
    "import numpy as np\n",
    "from line import Line,Point,LineBykd\n",
    "import math\n",
    "path=r\"F:\\艾德威尔\\软件\\上位机\\选区\\喷杆cli\\yp.cli\"\n",
    "class CLI():\n",
    "    def __init__(self,path):\n",
    "        self.UsePoint=[]\n",
    "        self.UseLine=[]\n",
    "        self.fillpoint=[]\n",
    "        self.read(path)\n",
    "    def read(self,path):\n",
    "        with open(path,'rb') as f:\n",
    "            file=f.read()\n",
    "            head=str(file).split('$$HEADEREND')\n",
    "            head=head[0].split('\\\\n')\n",
    "            #print(head)\n",
    "            for line in head:\n",
    "                if '$$UNITS' in line:\n",
    "                    self.unit=float(line.split('/')[1])\n",
    "                if '$$DIMENSION' in line:\n",
    "                    bound=line.split('/')[1]\n",
    "                    Xmin,Ymin,Zmin,Xmax,Ymax,Zmax=bound.split(',')\n",
    "                    self.Xmin=float(Xmin)\n",
    "                    self.Ymin=float(Ymin)\n",
    "                    self.Zmin=float(Zmin)\n",
    "                    self.Xmax=float(Xmax)\n",
    "                    self.Ymax=float(Ymax)\n",
    "                    self.Zmax=float(Zmax)\n",
    "                if '$$LAYERS' in line:\n",
    "                    self.layer=int(line.split('/')[1])\n",
    "            #print(head[0])\n",
    "            f.seek(226,0)\n",
    "            ty=struct.unpack('<H',f.read(2))\n",
    "            #print(\"type:\",ty)\n",
    "            try:\n",
    "                while True:\n",
    "                    layer=struct.unpack('<H',f.read(2))\n",
    "                    #print(\"layer:\",layer)\n",
    "                    Mypoint=[]\n",
    "                    while True:\n",
    "                        mypoint=[]\n",
    "                        readtpye=struct.unpack('<H',f.read(2))\n",
    "                        #print(\"readtype:\",readtpye)\n",
    "                        if readtpye[0]==128:\n",
    "                            break\n",
    "                        ID,Direction,Point_Num=struct.unpack('<HHH',f.read(6))\n",
    "                        '''print(\"ID:\",ID)\n",
    "                        print(\"Direction:\",Direction)\n",
    "                        print(\"Point_Num:\",Point_Num)'''\n",
    "                        for i in range(Point_Num):\n",
    "                            x,y=struct.unpack('<HH',f.read(4))\n",
    "                            mypoint.append(Point(x*self.unit,y*self.unit))\n",
    "                        Mypoint.append(mypoint)\n",
    "                    self.UsePoint.append(Mypoint)\n",
    "            except:\n",
    "                self.UsePoint.append(Mypoint)\n",
    "                #print('Finish!')\n",
    "    def optimizer(self):\n",
    "        pass\n",
    "    def fill(self,angle,distance,layer_num):\n",
    "        data=self.UseLine[layer_num]\n",
    "        if angle==90:\n",
    "            start_d=self.Xmin\n",
    "            step=distance\n",
    "            totallen=self.Xmax-self.Xmin\n",
    "        else:\n",
    "            start_d=min((self.Ymin-self.Xmin*math.tan(angle*math.pi/180)),(self.Ymin-self.Xmax*math.tan(angle*math.pi/180)))\n",
    "            step=distance/math.cos(angle*math.pi/180)\n",
    "            totallen=math.sqrt((self.Ymax-self.Ymin)*(self.Ymax-self.Ymin)+(self.Xmax-self.Xmin)*(self.Xmax-self.Xmin))\n",
    "        circle_num=int(totallen/step)+1\n",
    "        for i in range(circle_num):\n",
    "            filline=LineBykd(angle,start_d)\n",
    "            point_list=[]\n",
    "            for j in range(len(data)):\n",
    "                for w in range(len(data[j])):\n",
    "                    p=filline.intersection_point(data[j][w])\n",
    "                    if p is not None:\n",
    "                        point_list.append(filline.intersection_point(data[j][w]))\n",
    "            if len(point_list)%2==0:\n",
    "                self.fillpoint.append(point_list)\n",
    "            start_d=start_d+step\n",
    "    def getline(self):\n",
    "        for i in range(len(self.UsePoint)):\n",
    "            line1=[]\n",
    "            for j in range(len(self.UsePoint[i])):\n",
    "                line=[]\n",
    "                for w in range(len(self.UsePoint[i][j])-1):\n",
    "                    l=Line(self.UsePoint[i][j][w],self.UsePoint[i][j][w+1])\n",
    "                    if l.isline:\n",
    "                        line.append(l)\n",
    "                line1.append(line)\n",
    "            self.UseLine.append(line1)\n",
    "if __name__=='__main__':\n",
    "    w=CLI(path)\n",
    "    print(len(w.UsePoint))\n",
    "    print(w.layer)\n",
    "    print(w.Xmin)\n",
    "\n"
   ]
  },
  {
   "cell_type": "code",
   "execution_count": 31,
   "metadata": {},
   "outputs": [
    {
     "name": "stdout",
     "output_type": "stream",
     "text": [
      "<line.Line object at 0x0000000146913390>\n"
     ]
    }
   ],
   "source": [
    "\n",
    "w.getline()\n",
    "print(w.UseLine[0][0][0])"
   ]
  },
  {
   "cell_type": "code",
   "execution_count": 32,
   "metadata": {},
   "outputs": [],
   "source": [
    "w.fill(30,1,0)"
   ]
  },
  {
   "cell_type": "code",
   "execution_count": 33,
   "metadata": {},
   "outputs": [
    {
     "name": "stdout",
     "output_type": "stream",
     "text": [
      "[[], [], [], [], [], [], [], [], [], [], [], [], [], [], [], [], [], [], [], [], [], [], [], [], [], [], [], [], [], [], [], [], [], [<line.Point object at 0x000000014689B198>, <line.Point object at 0x00000001468DBAC8>], [<line.Point object at 0x000000008B897898>, <line.Point object at 0x000000014689BC50>], [<line.Point object at 0x000000008B897358>, <line.Point object at 0x000000008B89ABE0>], [<line.Point object at 0x00000001468E8BE0>, <line.Point object at 0x000000008B89A860>], [<line.Point object at 0x000000008B897E10>, <line.Point object at 0x000000008B89ACF8>, <line.Point object at 0x00000001468516A0>, <line.Point object at 0x000000008B89A128>], [<line.Point object at 0x00000001468E8D30>, <line.Point object at 0x000000008B89AC50>], [<line.Point object at 0x00000001468E86A0>, <line.Point object at 0x00000001464FECC0>], [<line.Point object at 0x00000001468E8EB8>, <line.Point object at 0x000000008B89A550>, <line.Point object at 0x00000001467B7E80>, <line.Point object at 0x000000008B89A6D8>], [<line.Point object at 0x000000014657ED68>, <line.Point object at 0x000000008B89A7F0>], [<line.Point object at 0x00000001468512E8>, <line.Point object at 0x000000008B89A2E8>], [<line.Point object at 0x000000014672D898>, <line.Point object at 0x000000014680AB70>], [<line.Point object at 0x000000008B8A8518>, <line.Point object at 0x000000014689B748>, <line.Point object at 0x000000008B8A8588>, <line.Point object at 0x00000001468B1320>], [<line.Point object at 0x000000008B8A8358>, <line.Point object at 0x000000003D1DDC50>], [<line.Point object at 0x000000008B8A8CF8>, <line.Point object at 0x00000001467B7898>], [<line.Point object at 0x000000008B89A3C8>, <line.Point object at 0x0000000146913E10>, <line.Point object at 0x000000008B89AEF0>, <line.Point object at 0x00000001468DBB70>], [<line.Point object at 0x000000008B897E48>, <line.Point object at 0x000000008B88CDD8>, <line.Point object at 0x000000008B89A668>, <line.Point object at 0x000000008B88CB38>], [<line.Point object at 0x0000000146875C50>, <line.Point object at 0x000000008B88CC50>, <line.Point object at 0x000000008B89AB00>, <line.Point object at 0x00000001469130F0>], [<line.Point object at 0x000000008B88CBA8>, <line.Point object at 0x000000014689BA90>, <line.Point object at 0x000000008B88CA90>, <line.Point object at 0x000000014680AD30>, <line.Point object at 0x000000008B88CBE0>, <line.Point object at 0x000000014690E278>], [<line.Point object at 0x000000008B88CEF0>, <line.Point object at 0x000000014690E4A8>, <line.Point object at 0x000000008B88CF28>, <line.Point object at 0x00000001468B1B38>], [<line.Point object at 0x000000008B88CB00>, <line.Point object at 0x000000014690E400>, <line.Point object at 0x0000000146875F28>, <line.Point object at 0x000000014689BA20>, <line.Point object at 0x000000008B88CA58>, <line.Point object at 0x000000014689B3C8>], [<line.Point object at 0x000000008B8971D0>, <line.Point object at 0x00000001468DB2E8>, <line.Point object at 0x000000008B897128>, <line.Point object at 0x000000008B897CC0>, <line.Point object at 0x000000014670FDD8>, <line.Point object at 0x000000008B897470>], [<line.Point object at 0x000000008B8A8C18>, <line.Point object at 0x000000008B89AF60>, <line.Point object at 0x000000008B8A8550>, <line.Point object at 0x000000008B89AF28>], [<line.Point object at 0x00000001468E81D0>, <line.Point object at 0x000000008B89A1D0>, <line.Point object at 0x00000001468B1470>, <line.Point object at 0x0000000146875F98>], [<line.Point object at 0x000000008B88C9E8>, <line.Point object at 0x000000014677BEB8>, <line.Point object at 0x00000001468B1240>, <line.Point object at 0x0000000146875320>, <line.Point object at 0x000000014690E2B0>, <line.Point object at 0x00000001468E8CC0>], [<line.Point object at 0x00000001468B1A20>, <line.Point object at 0x00000001469131D0>, <line.Point object at 0x000000014690EA90>, <line.Point object at 0x000000008B89AE48>, <line.Point object at 0x000000008B88CC88>, <line.Point object at 0x000000008B89A0B8>], [<line.Point object at 0x000000014689BF28>, <line.Point object at 0x00000001468DB390>, <line.Point object at 0x000000008B8A82B0>, <line.Point object at 0x00000001468DB048>], [<line.Point object at 0x000000008B88CCC0>, <line.Point object at 0x000000008B8B3C50>, <line.Point object at 0x000000008B897588>, <line.Point object at 0x000000008B8A8A58>, <line.Point object at 0x00000001468DB320>, <line.Point object at 0x000000008B8A84A8>], [<line.Point object at 0x000000008B897160>, <line.Point object at 0x000000008B8A8908>, <line.Point object at 0x000000008B897E80>, <line.Point object at 0x000000008B8B38D0>, <line.Point object at 0x000000008B897F28>, <line.Point object at 0x000000008B8A83C8>], [<line.Point object at 0x00000001468DB828>, <line.Point object at 0x00000001468B18D0>, <line.Point object at 0x000000008B8979B0>, <line.Point object at 0x000000014689B2E8>], [<line.Point object at 0x000000008B897748>, <line.Point object at 0x00000001468B1F98>, <line.Point object at 0x000000008B897940>, <line.Point object at 0x000000008B8B3B70>], [<line.Point object at 0x0000000146851160>, <line.Point object at 0x000000008B8B3B00>, <line.Point object at 0x000000008B897710>, <line.Point object at 0x000000008B8B3F98>, <line.Point object at 0x000000008B8977F0>, <line.Point object at 0x000000008B8B3978>], [<line.Point object at 0x000000008B8972E8>, <line.Point object at 0x000000014689B080>, <line.Point object at 0x000000008B897B00>, <line.Point object at 0x000000008B8CAF98>, <line.Point object at 0x0000000146851320>, <line.Point object at 0x000000008B88CC18>], [<line.Point object at 0x00000001468DBCC0>, <line.Point object at 0x0000000146875940>, <line.Point object at 0x000000014680A128>, <line.Point object at 0x000000008B8CA2B0>], [<line.Point object at 0x00000001467F04E0>, <line.Point object at 0x000000008B8CAEF0>, <line.Point object at 0x00000001468DBE48>, <line.Point object at 0x000000008B8CAEB8>, <line.Point object at 0x00000001468B1710>, <line.Point object at 0x000000008B8CA748>], [<line.Point object at 0x000000014689BE10>, <line.Point object at 0x000000008B8CA908>, <line.Point object at 0x00000001467F0D68>, <line.Point object at 0x000000008B8CA160>, <line.Point object at 0x0000000146875DD8>, <line.Point object at 0x000000008B8A8400>], [<line.Point object at 0x000000008B8CA7B8>, <line.Point object at 0x000000008B89A8D0>, <line.Point object at 0x000000008B8CA048>, <line.Point object at 0x000000008B89A390>], [<line.Point object at 0x000000008B8CA0F0>, <line.Point object at 0x00000001468E8710>, <line.Point object at 0x000000008B8CA470>, <line.Point object at 0x000000008B89A748>, <line.Point object at 0x000000014677B780>, <line.Point object at 0x0000000146875828>], [<line.Point object at 0x000000008B8A8208>, <line.Point object at 0x000000008B8B3DD8>, <line.Point object at 0x000000008B8A80B8>, <line.Point object at 0x000000008B8CA978>, <line.Point object at 0x000000008B89ADD8>, <line.Point object at 0x000000008B8CA390>], [<line.Point object at 0x00000001468754A8>, <line.Point object at 0x000000008B8CA128>, <line.Point object at 0x00000001468DBD30>, <line.Point object at 0x000000014690EE80>], [<line.Point object at 0x00000001468DB128>, <line.Point object at 0x000000014677B860>, <line.Point object at 0x00000001467F0A90>, <line.Point object at 0x000000008B8CAF28>], [<line.Point object at 0x000000014689BEF0>, <line.Point object at 0x000000008B8CA208>, <line.Point object at 0x000000008B89A780>, <line.Point object at 0x000000008B8A8BA8>, <line.Point object at 0x000000008B8CADD8>, <line.Point object at 0x000000008B89AAC8>], [<line.Point object at 0x000000008B8CA940>, <line.Point object at 0x000000014689B208>, <line.Point object at 0x000000008B8CA0B8>, <line.Point object at 0x000000008B8B3908>, <line.Point object at 0x000000008B8A8E10>, <line.Point object at 0x000000008B8CA898>], [<line.Point object at 0x000000008B89A438>, <line.Point object at 0x000000008B88CFD0>, <line.Point object at 0x000000008B89A630>, <line.Point object at 0x000000008B8CAD68>], [<line.Point object at 0x000000008B897C50>, <line.Point object at 0x000000014690E2E8>, <line.Point object at 0x000000008B8975C0>, <line.Point object at 0x000000008B8CAB00>, <line.Point object at 0x0000000146851F98>, <line.Point object at 0x000000008B897048>], [<line.Point object at 0x000000008B8A81D0>, <line.Point object at 0x000000008B897FD0>, <line.Point object at 0x000000008B8CAD30>, <line.Point object at 0x000000008B89A9E8>, <line.Point object at 0x000000008B8A8320>, <line.Point object at 0x00000001468513C8>], [<line.Point object at 0x000000008B897BE0>, <line.Point object at 0x000000008B8A8E48>, <line.Point object at 0x000000008B897550>, <line.Point object at 0x000000008B89A4E0>, <line.Point object at 0x000000008B8A8048>, <line.Point object at 0x00000001467F05C0>], [<line.Point object at 0x000000008B89AE80>, <line.Point object at 0x000000014689B4E0>, <line.Point object at 0x000000008B8A8DA0>, <line.Point object at 0x000000008B89A198>], [<line.Point object at 0x000000008B8A8940>, <line.Point object at 0x000000008B89AE10>, <line.Point object at 0x000000008B8CAB38>, <line.Point object at 0x000000008B8A82E8>, <line.Point object at 0x000000008B89AB38>, <line.Point object at 0x000000008B8A8240>], [<line.Point object at 0x000000008B89ACC0>, <line.Point object at 0x000000008B8A8EF0>, <line.Point object at 0x000000008B89A400>, <line.Point object at 0x000000008B8A8668>], [<line.Point object at 0x0000000146875C88>, <line.Point object at 0x000000008B8A8D30>, <line.Point object at 0x000000008B89A4A8>, <line.Point object at 0x000000008B8A8B38>], [<line.Point object at 0x000000008B89AC18>, <line.Point object at 0x000000008B8A89B0>, <line.Point object at 0x000000008B89A2B0>, <line.Point object at 0x000000008B8A8F28>, <line.Point object at 0x000000008B89AC88>, <line.Point object at 0x000000014689B828>], [<line.Point object at 0x000000008B89A0F0>, <line.Point object at 0x000000008B8A8F98>, <line.Point object at 0x000000008B89ABA8>, <line.Point object at 0x000000008B8A8860>, <line.Point object at 0x00000001468B1BA8>, <line.Point object at 0x000000008B8A8438>], [<line.Point object at 0x00000001468DBA90>, <line.Point object at 0x000000008B88CB70>, <line.Point object at 0x000000008B8CAE80>, <line.Point object at 0x000000008B8975F8>, <line.Point object at 0x000000008B89AA90>, <line.Point object at 0x000000008B897C18>], [<line.Point object at 0x0000000146913AC8>, <line.Point object at 0x000000008B897B70>, <line.Point object at 0x000000008B8B3630>, <line.Point object at 0x000000008B8977B8>, <line.Point object at 0x000000008B8CA7F0>, <line.Point object at 0x000000008B8A8E80>], [<line.Point object at 0x000000008B8CACF8>, <line.Point object at 0x000000008B8CA668>, <line.Point object at 0x000000008B8B3A20>, <line.Point object at 0x00000001468E80F0>, <line.Point object at 0x000000008B8B3CF8>, <line.Point object at 0x000000008B8A8D68>], [<line.Point object at 0x000000008B89A898>, <line.Point object at 0x000000008B88CF60>, <line.Point object at 0x000000008B8978D0>, <line.Point object at 0x000000008B89A710>], [<line.Point object at 0x000000008B8CAE48>, <line.Point object at 0x000000008B897780>, <line.Point object at 0x000000008B8CAA58>, <line.Point object at 0x000000008B8E34E0>], [<line.Point object at 0x000000008B8A8CC0>, <line.Point object at 0x000000008B8979E8>, <line.Point object at 0x000000008B8A87F0>, <line.Point object at 0x000000008B897DD8>, <line.Point object at 0x000000008B8E37F0>, <line.Point object at 0x000000008B89AA20>], [<line.Point object at 0x000000008B8974A8>, <line.Point object at 0x000000008B89A978>, <line.Point object at 0x000000008B8A8BE0>, <line.Point object at 0x000000008B8E37B8>, <line.Point object at 0x000000008B897518>, <line.Point object at 0x000000008B8E36D8>], [<line.Point object at 0x000000008B8976A0>, <line.Point object at 0x000000008B8E3B38>, <line.Point object at 0x000000008B8A8470>, <line.Point object at 0x000000008B8E3470>], [<line.Point object at 0x000000008B897F60>, <line.Point object at 0x000000008B8E3E48>, <line.Point object at 0x000000008B8A8278>, <line.Point object at 0x000000008B8E3D30>], [<line.Point object at 0x0000000146913518>, <line.Point object at 0x000000008B897208>, <line.Point object at 0x0000000146875D68>, <line.Point object at 0x000000008B897B38>, <line.Point object at 0x000000008B8A8FD0>, <line.Point object at 0x000000008B8970B8>], [<line.Point object at 0x0000000146913128>, <line.Point object at 0x000000008B897978>, <line.Point object at 0x000000008B8CA518>, <line.Point object at 0x000000008B8E3D68>], [<line.Point object at 0x0000000146913E48>, <line.Point object at 0x00000001468DBEF0>, <line.Point object at 0x000000008B8A8C50>, <line.Point object at 0x00000001464FE470>], [<line.Point object at 0x000000008B8A8898>, <line.Point object at 0x000000008B897D30>, <line.Point object at 0x000000008B8CA710>, <line.Point object at 0x000000008B8E3E80>], [<line.Point object at 0x000000008B8CAC88>, <line.Point object at 0x000000008B8973C8>, <line.Point object at 0x000000008B8A87B8>, <line.Point object at 0x000000008B897860>], [<line.Point object at 0x000000008B8A86D8>, <line.Point object at 0x00000001468DB0B8>, <line.Point object at 0x000000008B8A8828>, <line.Point object at 0x00000001468B1FD0>], [<line.Point object at 0x000000008B8A8EB8>, <line.Point object at 0x000000008B897CF8>, <line.Point object at 0x000000008B8A8F60>, <line.Point object at 0x000000008B8E3C18>], [<line.Point object at 0x000000008B8A8198>, <line.Point object at 0x000000008B897908>, <line.Point object at 0x000000008B8A8A20>, <line.Point object at 0x000000008B8E3128>], [<line.Point object at 0x000000008B8A8128>, <line.Point object at 0x000000008B8970F0>], [<line.Point object at 0x000000008B8CAE10>, <line.Point object at 0x000000008B8E3E10>], [<line.Point object at 0x00000001468DB940>, <line.Point object at 0x000000008B8E3518>], [<line.Point object at 0x000000008B8CA550>, <line.Point object at 0x000000008B8E3EF0>], [<line.Point object at 0x000000008B8CAA20>, <line.Point object at 0x000000008B8E3F60>], [<line.Point object at 0x000000008B8CAAC8>, <line.Point object at 0x000000008B8E3B00>], [<line.Point object at 0x000000008B8CAF60>, <line.Point object at 0x000000008B8E3EB8>], [], [], [], [], [], [], [], [], [], [], [], [<line.Point object at 0x000000008B8CA400>, <line.Point object at 0x000000008B8E3F98>], [<line.Point object at 0x000000008B8A86A0>, <line.Point object at 0x000000008B8E3A20>], [<line.Point object at 0x000000008B8CA6A0>, <line.Point object at 0x000000008B8E3B70>], [<line.Point object at 0x000000008B8A85C0>, <line.Point object at 0x000000008B8E39E8>], [<line.Point object at 0x00000001468DB550>, <line.Point object at 0x000000008B8E3438>], [<line.Point object at 0x000000008B8DE0F0>, <line.Point object at 0x000000008B89AFD0>], [<line.Point object at 0x00000001468DB908>, <line.Point object at 0x000000008B8E3400>], [<line.Point object at 0x000000008B8CA080>, <line.Point object at 0x000000008B8E39B0>], [<line.Point object at 0x000000008B8A8B70>, <line.Point object at 0x000000008B8E35C0>], [<line.Point object at 0x000000008B8DE3C8>, <line.Point object at 0x000000008B8E3668>], [<line.Point object at 0x000000008B8DE470>, <line.Point object at 0x000000008B8E3BE0>], [<line.Point object at 0x000000008B89A048>, <line.Point object at 0x000000008B897A90>], [<line.Point object at 0x000000008B8DE438>, <line.Point object at 0x000000008B897C88>], [<line.Point object at 0x000000008B8DE748>, <line.Point object at 0x000000008B89A7B8>, <line.Point object at 0x000000008B8DE6A0>, <line.Point object at 0x000000008B8E3550>], [<line.Point object at 0x000000008B8DE278>, <line.Point object at 0x000000008B89A9B0>, <line.Point object at 0x000000008B8DE9E8>, <line.Point object at 0x000000008B89AF98>], [<line.Point object at 0x000000008B8A8710>, <line.Point object at 0x000000008B89A518>, <line.Point object at 0x000000014690E518>, <line.Point object at 0x000000008B89A5C0>], [<line.Point object at 0x000000008B8A8B00>, <line.Point object at 0x000000008B897A58>, <line.Point object at 0x000000008B8A8C88>, <line.Point object at 0x000000014670F198>], [<line.Point object at 0x000000008B8DEF60>, <line.Point object at 0x000000008B8E3048>, <line.Point object at 0x000000008B8A8390>, <line.Point object at 0x000000008B8E3F28>], [<line.Point object at 0x000000008B8DE4E0>, <line.Point object at 0x000000008B8E3240>, <line.Point object at 0x000000008B8DED30>, <line.Point object at 0x000000008B8E32B0>], [<line.Point object at 0x000000008B8DE7B8>, <line.Point object at 0x000000008B89AA58>], [<line.Point object at 0x000000008B8E8438>, <line.Point object at 0x000000008B8E33C8>], [<line.Point object at 0x000000008B8DEFD0>, <line.Point object at 0x000000008B8E3C88>, <line.Point object at 0x000000008B8DEBA8>, <line.Point object at 0x000000008B8CA588>], [<line.Point object at 0x000000008B8A8748>, <line.Point object at 0x000000008B8B3DA0>, <line.Point object at 0x000000008B89AB70>, <line.Point object at 0x000000008B8CA5F8>], [<line.Point object at 0x000000008B8E3A90>, <line.Point object at 0x000000008B8DE208>, <line.Point object at 0x000000008B8E35F8>, <line.Point object at 0x000000008B8DE358>], [<line.Point object at 0x000000008B89A160>, <line.Point object at 0x000000008B8DE2B0>, <line.Point object at 0x000000008B89A208>, <line.Point object at 0x000000008B8DEBE0>], [<line.Point object at 0x000000008B897AC8>, <line.Point object at 0x000000008B8DE1D0>, <line.Point object at 0x000000008B8E38D0>, <line.Point object at 0x000000008B8DEA20>], [<line.Point object at 0x000000008B8E8BE0>, <line.Point object at 0x000000008B8DE978>, <line.Point object at 0x00000001467F0EB8>, <line.Point object at 0x000000008B8DEEB8>], [<line.Point object at 0x000000008B8974E0>, <line.Point object at 0x000000008B8A8A90>, <line.Point object at 0x000000008B897438>, <line.Point object at 0x000000008B8A8DD8>], [<line.Point object at 0x000000008B8E3DA0>, <line.Point object at 0x000000008B8DE550>, <line.Point object at 0x000000008B8E3828>, <line.Point object at 0x000000008B8E8630>], [<line.Point object at 0x000000008B8DE828>, <line.Point object at 0x000000008B8E8390>], [<line.Point object at 0x000000008B8DE908>, <line.Point object at 0x000000008B8E80F0>], [<line.Point object at 0x000000008B8DECC0>, <line.Point object at 0x000000008B8E85C0>], [<line.Point object at 0x000000008B8E3748>, <line.Point object at 0x000000008B8E8F60>, <line.Point object at 0x000000008B89AEB8>, <line.Point object at 0x0000000146913A58>], [<line.Point object at 0x000000008B89ADA0>, <line.Point object at 0x000000008B8E85F8>, <line.Point object at 0x000000008B8DE860>, <line.Point object at 0x000000008B8E8A58>], [<line.Point object at 0x000000008B8DEB00>, <line.Point object at 0x000000008B8FB5C0>], [<line.Point object at 0x000000008B8E3978>, <line.Point object at 0x000000008B8FBF28>], [<line.Point object at 0x000000008B8DE080>, <line.Point object at 0x000000008B8CABE0>], [<line.Point object at 0x000000008B8DEE80>, <line.Point object at 0x000000008B8FB828>], [], []]\n"
     ]
    }
   ],
   "source": [
    "print(w.fillpoint)"
   ]
  },
  {
   "cell_type": "code",
   "execution_count": null,
   "metadata": {},
   "outputs": [],
   "source": []
  }
 ],
 "metadata": {
  "kernelspec": {
   "display_name": "Python 3",
   "language": "python",
   "name": "python3"
  },
  "language_info": {
   "codemirror_mode": {
    "name": "ipython",
    "version": 3
   },
   "file_extension": ".py",
   "mimetype": "text/x-python",
   "name": "python",
   "nbconvert_exporter": "python",
   "pygments_lexer": "ipython3",
   "version": "3.6.5"
  }
 },
 "nbformat": 4,
 "nbformat_minor": 2
}
